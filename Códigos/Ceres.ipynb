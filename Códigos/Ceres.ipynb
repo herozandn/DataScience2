{
 "cells": [
  {
   "cell_type": "markdown",
   "id": "a78dd1ec-9c2c-4e90-8afd-8f8f5ba4a631",
   "metadata": {},
   "source": [
    "# 3. Pré-processamento"
   ]
  },
  {
   "cell_type": "markdown",
   "id": "11daeb18-9133-4e4e-90d7-a14d5015e89a",
   "metadata": {},
   "source": [
    "Nosso modelo só pode prever os jogos com base em dados passados dos times, não a partir das variáveis do jogo a ser previsto (até porque a previsão ocorre antes do jogo). O algoritmo deve se basear apenas nas informações passadas"
   ]
  },
  {
   "cell_type": "code",
   "execution_count": 61,
   "id": "22afc93f-d79b-42bf-bb7f-a5406856c84b",
   "metadata": {
    "tags": []
   },
   "outputs": [],
   "source": [
    "import pandas as pd\n",
    "import datetime as dt"
   ]
  },
  {
   "cell_type": "code",
   "execution_count": 73,
   "id": "e0bda245-efbf-44ba-947c-74a90ba16e56",
   "metadata": {
    "tags": []
   },
   "outputs": [],
   "source": [
    "df = pd.read_csv('dados_brasileirao_tratados.csv') \n",
    "brasileirao = pd.read_csv('jogos_brasileirao.csv')"
   ]
  },
  {
   "cell_type": "markdown",
   "id": "0f18620b-8732-48bc-8695-28d2a2c6175d",
   "metadata": {},
   "source": [
    "## Calcular média móvel"
   ]
  },
  {
   "cell_type": "markdown",
   "id": "23b8085b-06c5-4aaa-8410-9ed405275d3d",
   "metadata": {},
   "source": [
    "Para uma análise de resultado normalmente leva-se em conta os últimos 3 ou 5 jogos disputados pelas equipes. Por conta disso, calcularemos a **média móvel dos últimos 5 jogos de cada time**"
   ]
  },
  {
   "cell_type": "markdown",
   "id": "3c17c13e-57d6-4786-b245-e3910f38d8de",
   "metadata": {
    "jp-MarkdownHeadingCollapsed": true,
    "tags": []
   },
   "source": [
    "### Juntando dataframes"
   ]
  },
  {
   "cell_type": "markdown",
   "id": "182d26d3-7493-4b0e-b8a9-53ea0d05362d",
   "metadata": {},
   "source": [
    "Vou precisar atribuir o ano dos jogos às linhas na base de dados usada para fazer o treinamento. Isso porque terei de agrupar por ano os dados para calcular a média móvel"
   ]
  },
  {
   "cell_type": "code",
   "execution_count": 75,
   "id": "fe65ed62-d6ef-4644-b45a-dcfe68887073",
   "metadata": {
    "tags": []
   },
   "outputs": [],
   "source": [
    "# Criando uma coluna 'ano' com o ano em que cada jogo aconteceu\n",
    "try:\n",
    "    brasileirao['ano'] = pd.to_datetime(brasileirao['data'].str.title(), dayfirst=True).dt.year\n",
    "    \n",
    "except AttributeError:\n",
    "    print('A conversão já foi feita')"
   ]
  },
  {
   "cell_type": "code",
   "execution_count": 121,
   "id": "8b79f3c8-2988-4c40-ad6c-296d574d12ce",
   "metadata": {
    "tags": []
   },
   "outputs": [],
   "source": [
    "brasileirao.rename(columns={'ID': 'partida_id'}, inplace=True)"
   ]
  },
  {
   "cell_type": "code",
   "execution_count": 119,
   "id": "c83bf404-ffae-4f58-b51e-7f16511c9201",
   "metadata": {
    "tags": []
   },
   "outputs": [],
   "source": [
    "#Fazendo a junção dos dataframes\n",
    "df_atualizado = pd.merge(brasileirao[['partida_id', 'ano']], df, on='partida_id')"
   ]
  },
  {
   "cell_type": "code",
   "execution_count": 128,
   "id": "fd904002-4931-48ef-8372-5b76e2e0575d",
   "metadata": {
    "tags": []
   },
   "outputs": [
    {
     "data": {
      "text/html": [
       "<div>\n",
       "<style scoped>\n",
       "    .dataframe tbody tr th:only-of-type {\n",
       "        vertical-align: middle;\n",
       "    }\n",
       "\n",
       "    .dataframe tbody tr th {\n",
       "        vertical-align: top;\n",
       "    }\n",
       "\n",
       "    .dataframe thead th {\n",
       "        text-align: right;\n",
       "    }\n",
       "</style>\n",
       "<table border=\"1\" class=\"dataframe\">\n",
       "  <thead>\n",
       "    <tr style=\"text-align: right;\">\n",
       "      <th></th>\n",
       "      <th>partida_id</th>\n",
       "      <th>ano</th>\n",
       "      <th>rodata</th>\n",
       "      <th>clube</th>\n",
       "      <th>chutes</th>\n",
       "      <th>chutes_no_alvo</th>\n",
       "      <th>posse_de_bola</th>\n",
       "      <th>passes</th>\n",
       "      <th>precisao_passes</th>\n",
       "      <th>faltas</th>\n",
       "      <th>cartao_amarelo</th>\n",
       "      <th>cartao_vermelho</th>\n",
       "      <th>impedimentos</th>\n",
       "      <th>escanteios</th>\n",
       "    </tr>\n",
       "  </thead>\n",
       "  <tbody>\n",
       "    <tr>\n",
       "      <th>0</th>\n",
       "      <td>6126</td>\n",
       "      <td>2018</td>\n",
       "      <td>1</td>\n",
       "      <td>Cruzeiro</td>\n",
       "      <td>12.0</td>\n",
       "      <td>2.0</td>\n",
       "      <td>0.40</td>\n",
       "      <td>425.0</td>\n",
       "      <td>0.81</td>\n",
       "      <td>20.0</td>\n",
       "      <td>3</td>\n",
       "      <td>0</td>\n",
       "      <td>0</td>\n",
       "      <td>7</td>\n",
       "    </tr>\n",
       "    <tr>\n",
       "      <th>1</th>\n",
       "      <td>6126</td>\n",
       "      <td>2018</td>\n",
       "      <td>1</td>\n",
       "      <td>Gremio</td>\n",
       "      <td>6.0</td>\n",
       "      <td>2.0</td>\n",
       "      <td>0.60</td>\n",
       "      <td>649.0</td>\n",
       "      <td>0.86</td>\n",
       "      <td>15.0</td>\n",
       "      <td>1</td>\n",
       "      <td>1</td>\n",
       "      <td>3</td>\n",
       "      <td>4</td>\n",
       "    </tr>\n",
       "    <tr>\n",
       "      <th>2</th>\n",
       "      <td>6127</td>\n",
       "      <td>2018</td>\n",
       "      <td>1</td>\n",
       "      <td>Vitoria</td>\n",
       "      <td>21.0</td>\n",
       "      <td>6.0</td>\n",
       "      <td>0.66</td>\n",
       "      <td>545.0</td>\n",
       "      <td>0.88</td>\n",
       "      <td>24.0</td>\n",
       "      <td>3</td>\n",
       "      <td>0</td>\n",
       "      <td>2</td>\n",
       "      <td>4</td>\n",
       "    </tr>\n",
       "    <tr>\n",
       "      <th>3</th>\n",
       "      <td>6127</td>\n",
       "      <td>2018</td>\n",
       "      <td>1</td>\n",
       "      <td>Flamengo</td>\n",
       "      <td>10.0</td>\n",
       "      <td>5.0</td>\n",
       "      <td>0.34</td>\n",
       "      <td>286.0</td>\n",
       "      <td>0.72</td>\n",
       "      <td>10.0</td>\n",
       "      <td>2</td>\n",
       "      <td>1</td>\n",
       "      <td>2</td>\n",
       "      <td>5</td>\n",
       "    </tr>\n",
       "    <tr>\n",
       "      <th>4</th>\n",
       "      <td>6128</td>\n",
       "      <td>2018</td>\n",
       "      <td>1</td>\n",
       "      <td>Santos</td>\n",
       "      <td>22.0</td>\n",
       "      <td>3.0</td>\n",
       "      <td>0.54</td>\n",
       "      <td>532.0</td>\n",
       "      <td>0.90</td>\n",
       "      <td>7.0</td>\n",
       "      <td>0</td>\n",
       "      <td>0</td>\n",
       "      <td>1</td>\n",
       "      <td>4</td>\n",
       "    </tr>\n",
       "  </tbody>\n",
       "</table>\n",
       "</div>"
      ],
      "text/plain": [
       "   partida_id   ano  rodata     clube  chutes  chutes_no_alvo  posse_de_bola  \\\n",
       "0        6126  2018       1  Cruzeiro    12.0             2.0           0.40   \n",
       "1        6126  2018       1    Gremio     6.0             2.0           0.60   \n",
       "2        6127  2018       1   Vitoria    21.0             6.0           0.66   \n",
       "3        6127  2018       1  Flamengo    10.0             5.0           0.34   \n",
       "4        6128  2018       1    Santos    22.0             3.0           0.54   \n",
       "\n",
       "   passes  precisao_passes  faltas  cartao_amarelo  cartao_vermelho  \\\n",
       "0   425.0             0.81    20.0               3                0   \n",
       "1   649.0             0.86    15.0               1                1   \n",
       "2   545.0             0.88    24.0               3                0   \n",
       "3   286.0             0.72    10.0               2                1   \n",
       "4   532.0             0.90     7.0               0                0   \n",
       "\n",
       "   impedimentos  escanteios  \n",
       "0             0           7  \n",
       "1             3           4  \n",
       "2             2           4  \n",
       "3             2           5  \n",
       "4             1           4  "
      ]
     },
     "execution_count": 128,
     "metadata": {},
     "output_type": "execute_result"
    }
   ],
   "source": [
    "df_atualizado.head()"
   ]
  }
 ],
 "metadata": {
  "kernelspec": {
   "display_name": "Python 3 (ipykernel)",
   "language": "python",
   "name": "python3"
  },
  "language_info": {
   "codemirror_mode": {
    "name": "ipython",
    "version": 3
   },
   "file_extension": ".py",
   "mimetype": "text/x-python",
   "name": "python",
   "nbconvert_exporter": "python",
   "pygments_lexer": "ipython3",
   "version": "3.11.5"
  }
 },
 "nbformat": 4,
 "nbformat_minor": 5
}
